{
 "cells": [
  {
   "cell_type": "code",
   "execution_count": 1,
   "metadata": {},
   "outputs": [
    {
     "name": "stdout",
     "output_type": "stream",
     "text": [
      "Intel MKL WARNING: Support of Intel(R) Streaming SIMD Extensions 4.2 (Intel(R) SSE4.2) enabled only processors has been deprecated. Intel oneAPI Math Kernel Library 2025.0 will require Intel(R) Advanced Vector Extensions (Intel(R) AVX) instructions.\n",
      "Intel MKL WARNING: Support of Intel(R) Streaming SIMD Extensions 4.2 (Intel(R) SSE4.2) enabled only processors has been deprecated. Intel oneAPI Math Kernel Library 2025.0 will require Intel(R) Advanced Vector Extensions (Intel(R) AVX) instructions.\n",
      "Goroka , Madang , ...\n"
     ]
    }
   ],
   "source": [
    "import pandas as pd\n",
    "import igraph\n",
    "import numpy as np\n",
    "\n",
    "node_table = pd.read_csv(\n",
    "    \"https://raw.githubusercontent.com/skojaku/adv-net-sci-course/main/data/airport_network_v2/node_table.csv\"\n",
    ")\n",
    "edge_table = pd.read_csv(\n",
    "    \"https://raw.githubusercontent.com/skojaku/adv-net-sci-course/main/data/airport_network_v2/edge_table.csv\"\n",
    ")\n",
    "src, trg = tuple(edge_table[[\"src\", \"trg\"]].values.T)\n",
    "edge_list = tuple(zip(src, trg))\n",
    "\n",
    "# node_id and name dictionary\n",
    "n_nodes = node_table.shape[0]\n",
    "id2name = np.array([\"\"] * n_nodes, dtype=\"<U64\")\n",
    "id2name[node_table[\"node_id\"]] = node_table[\"Name\"].values\n",
    "\n",
    "g = igraph.Graph(\n",
    "    edge_list,\n",
    "    vertex_attrs=dict(Name=id2name, node_id=node_table[\"node_id\"].values),\n",
    ")\n",
    "\n",
    "# You can retrieve the airport names by\n",
    "print(g.vs[0][\"Name\"], \",\", g.vs[1][\"Name\"], \", ...\")"
   ]
  },
  {
   "cell_type": "code",
   "execution_count": 2,
   "metadata": {},
   "outputs": [
    {
     "ename": "NameError",
     "evalue": "name 'x' is not defined",
     "output_type": "error",
     "traceback": [
      "\u001b[0;31m---------------------------------------------------------------------------\u001b[0m",
      "\u001b[0;31mNameError\u001b[0m                                 Traceback (most recent call last)",
      "\u001b[1;32m/Users/skojaku-admin/Documents/projects/teaching/adv-net-sci/codespaces/AttackOnNetworks/notebooks/draw_robustness_profile.ipynb Cell 2\u001b[0m line \u001b[0;36m1\n\u001b[1;32m      <a href='vscode-notebook-cell:/Users/skojaku-admin/Documents/projects/teaching/adv-net-sci/codespaces/AttackOnNetworks/notebooks/draw_robustness_profile.ipynb#W1sZmlsZQ%3D%3D?line=7'>8</a>\u001b[0m \u001b[39mfrom\u001b[39;00m \u001b[39mnetwork_robustness\u001b[39;00m \u001b[39mimport\u001b[39;00m \u001b[39m*\u001b[39m\n\u001b[1;32m     <a href='vscode-notebook-cell:/Users/skojaku-admin/Documents/projects/teaching/adv-net-sci/codespaces/AttackOnNetworks/notebooks/draw_robustness_profile.ipynb#W1sZmlsZQ%3D%3D?line=9'>10</a>\u001b[0m plot_data \u001b[39m=\u001b[39m []\n\u001b[0;32m---> <a href='vscode-notebook-cell:/Users/skojaku-admin/Documents/projects/teaching/adv-net-sci/codespaces/AttackOnNetworks/notebooks/draw_robustness_profile.ipynb#W1sZmlsZQ%3D%3D?line=11'>12</a>\u001b[0m x, y \u001b[39m=\u001b[39m random_attack(g)\n\u001b[1;32m     <a href='vscode-notebook-cell:/Users/skojaku-admin/Documents/projects/teaching/adv-net-sci/codespaces/AttackOnNetworks/notebooks/draw_robustness_profile.ipynb#W1sZmlsZQ%3D%3D?line=12'>13</a>\u001b[0m plot_data\u001b[39m.\u001b[39mappend({\u001b[39m\"\u001b[39m\u001b[39mx\u001b[39m\u001b[39m\"\u001b[39m: x, \u001b[39m\"\u001b[39m\u001b[39my\u001b[39m\u001b[39m\"\u001b[39m: y, \u001b[39m\"\u001b[39m\u001b[39mattackType\u001b[39m\u001b[39m\"\u001b[39m: \u001b[39m\"\u001b[39m\u001b[39mrandom\u001b[39m\u001b[39m\"\u001b[39m})\n\u001b[1;32m     <a href='vscode-notebook-cell:/Users/skojaku-admin/Documents/projects/teaching/adv-net-sci/codespaces/AttackOnNetworks/notebooks/draw_robustness_profile.ipynb#W1sZmlsZQ%3D%3D?line=14'>15</a>\u001b[0m x, y \u001b[39m=\u001b[39m degree_targeted_attack(g)\n",
      "File \u001b[0;32m~/Documents/projects/teaching/adv-net-sci/codespaces/AttackOnNetworks/notebooks/../scripts/network_robustness.py:12\u001b[0m, in \u001b[0;36mrandom_attack\u001b[0;34m(g)\u001b[0m\n\u001b[1;32m      4\u001b[0m \u001b[39mdef\u001b[39;00m \u001b[39mrandom_attack\u001b[39m(g):\n\u001b[1;32m      5\u001b[0m \u001b[39m    \u001b[39m\u001b[39m\"\"\"Random attack\u001b[39;00m\n\u001b[1;32m      6\u001b[0m \u001b[39m    g: igraph.Graph object\u001b[39;00m\n\u001b[1;32m      7\u001b[0m \n\u001b[0;32m   (...)\u001b[0m\n\u001b[1;32m     10\u001b[0m \u001b[39m    y: the proportion of nodes in the giant component\u001b[39;00m\n\u001b[1;32m     11\u001b[0m \u001b[39m    \"\"\"\u001b[39;00m\n\u001b[0;32m---> 12\u001b[0m     \u001b[39mreturn\u001b[39;00m x, y\n",
      "\u001b[0;31mNameError\u001b[0m: name 'x' is not defined"
     ]
    }
   ],
   "source": [
    "import numpy as np\n",
    "import sys\n",
    "import pandas as pd\n",
    "import seaborn as sns\n",
    "import matplotlib.pyplot as plt\n",
    "\n",
    "sys.path.append(\"../scripts\")\n",
    "from network_robustness import *\n",
    "\n",
    "plot_data = []\n",
    "\n",
    "x, y = random_attack(g)\n",
    "plot_data.append({\"x\": x, \"y\": y, \"attackType\": \"random\"})\n",
    "\n",
    "x, y = degree_targeted_attack(g)\n",
    "plot_data.append({\"x\": x, \"y\": y, \"attackType\": \"targeted (degree)\"})\n",
    "\n",
    "x, y = betweenness_targeted_attack(g)\n",
    "plot_data.append({\"x\": x, \"y\": y, \"attackType\": \"targeted (betweenness)\"})\n",
    "\n",
    "# Plot\n",
    "sns.set_style(\"white\")\n",
    "sns.set(font_scale=1.2)\n",
    "sns.set_style(\"ticks\")\n",
    "\n",
    "fig, ax = plt.subplots(figsize=(5, 5))\n",
    "ax = sns.lineplot(data=plot_data, x=\"x\", y=\"y\")\n",
    "ax.set_xlabel(\"Proportion of nodes removed\")\n",
    "ax.set_ylabel(\"Proportion of nodes in a core\")\n",
    "sns.despine()"
   ]
  },
  {
   "cell_type": "code",
   "execution_count": null,
   "metadata": {},
   "outputs": [],
   "source": []
  }
 ],
 "metadata": {
  "kernelspec": {
   "display_name": "advnetsci",
   "language": "python",
   "name": "python3"
  },
  "language_info": {
   "codemirror_mode": {
    "name": "ipython",
    "version": 3
   },
   "file_extension": ".py",
   "mimetype": "text/x-python",
   "name": "python",
   "nbconvert_exporter": "python",
   "pygments_lexer": "ipython3",
   "version": "3.9.16"
  },
  "orig_nbformat": 4
 },
 "nbformat": 4,
 "nbformat_minor": 2
}
